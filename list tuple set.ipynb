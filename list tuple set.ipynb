{
 "cells": [
  {
   "cell_type": "code",
   "execution_count": 1,
   "id": "75b63522-e51b-42de-a4cd-98574b8f9bc2",
   "metadata": {},
   "outputs": [],
   "source": [
    "a =[1,234,456,True,\"richa\",3.6]"
   ]
  },
  {
   "cell_type": "code",
   "execution_count": 2,
   "id": "801f0cdc-2586-4179-9bf8-14cde590d538",
   "metadata": {},
   "outputs": [
    {
     "data": {
      "text/plain": [
       "[1, 234, 456, True, 'richa', 3.6]"
      ]
     },
     "execution_count": 2,
     "metadata": {},
     "output_type": "execute_result"
    }
   ],
   "source": [
    "a"
   ]
  },
  {
   "cell_type": "code",
   "execution_count": 3,
   "id": "11729459-75a5-47ba-8bce-8157e205cf3e",
   "metadata": {},
   "outputs": [
    {
     "data": {
      "text/plain": [
       "list"
      ]
     },
     "execution_count": 3,
     "metadata": {},
     "output_type": "execute_result"
    }
   ],
   "source": [
    "type(a)"
   ]
  },
  {
   "cell_type": "code",
   "execution_count": 4,
   "id": "813fec33-ab65-4e78-bc3a-33529cebe668",
   "metadata": {},
   "outputs": [
    {
     "name": "stdout",
     "output_type": "stream",
     "text": [
      "<class 'list'>\n"
     ]
    }
   ],
   "source": [
    "print(type(a))"
   ]
  },
  {
   "cell_type": "code",
   "execution_count": 10,
   "id": "f64205bb-40e4-4078-b715-73d208433a31",
   "metadata": {},
   "outputs": [
    {
     "data": {
      "text/plain": [
       "1"
      ]
     },
     "execution_count": 10,
     "metadata": {},
     "output_type": "execute_result"
    }
   ],
   "source": [
    "a[0]"
   ]
  },
  {
   "cell_type": "code",
   "execution_count": 11,
   "id": "546d048e-0cdc-430f-b4c4-db042aebbc14",
   "metadata": {},
   "outputs": [
    {
     "data": {
      "text/plain": [
       "3.6"
      ]
     },
     "execution_count": 11,
     "metadata": {},
     "output_type": "execute_result"
    }
   ],
   "source": [
    "a[5]"
   ]
  },
  {
   "cell_type": "code",
   "execution_count": 12,
   "id": "04ce53f9-bef9-44d8-a7e6-9203a38f99c4",
   "metadata": {},
   "outputs": [
    {
     "data": {
      "text/plain": [
       "True"
      ]
     },
     "execution_count": 12,
     "metadata": {},
     "output_type": "execute_result"
    }
   ],
   "source": [
    "a[3]"
   ]
  },
  {
   "cell_type": "code",
   "execution_count": 13,
   "id": "9a3786b4-85fe-46a7-9780-91bda499316b",
   "metadata": {},
   "outputs": [
    {
     "data": {
      "text/plain": [
       "[1, 234, 456]"
      ]
     },
     "execution_count": 13,
     "metadata": {},
     "output_type": "execute_result"
    }
   ],
   "source": [
    "a[0:3]"
   ]
  },
  {
   "cell_type": "code",
   "execution_count": 14,
   "id": "e227187f-d581-4f34-958f-9b7b8a50526d",
   "metadata": {},
   "outputs": [
    {
     "data": {
      "text/plain": [
       "[1, 234, 456, True, 'richa', 3.6]"
      ]
     },
     "execution_count": 14,
     "metadata": {},
     "output_type": "execute_result"
    }
   ],
   "source": [
    "a[::1]"
   ]
  },
  {
   "cell_type": "code",
   "execution_count": 15,
   "id": "c0964c89-e6e1-4fcc-9bbb-f48424be82f9",
   "metadata": {},
   "outputs": [
    {
     "data": {
      "text/plain": [
       "[3.6, 'richa', True, 456, 234, 1]"
      ]
     },
     "execution_count": 15,
     "metadata": {},
     "output_type": "execute_result"
    }
   ],
   "source": [
    "a[::-1]"
   ]
  },
  {
   "cell_type": "code",
   "execution_count": 16,
   "id": "9d93b8bf-878f-4d97-a401-a32ab4966190",
   "metadata": {},
   "outputs": [
    {
     "ename": "IndexError",
     "evalue": "list index out of range",
     "output_type": "error",
     "traceback": [
      "\u001b[0;31m---------------------------------------------------------------------------\u001b[0m",
      "\u001b[0;31mIndexError\u001b[0m                                Traceback (most recent call last)",
      "Cell \u001b[0;32mIn[16], line 1\u001b[0m\n\u001b[0;32m----> 1\u001b[0m \u001b[43ma\u001b[49m\u001b[43m[\u001b[49m\u001b[38;5;241;43m70\u001b[39;49m\u001b[43m]\u001b[49m\n",
      "\u001b[0;31mIndexError\u001b[0m: list index out of range"
     ]
    }
   ],
   "source": [
    "a[70]"
   ]
  },
  {
   "cell_type": "code",
   "execution_count": 17,
   "id": "970054f6-d75f-4034-9d5d-5e9fcfa5bb59",
   "metadata": {},
   "outputs": [
    {
     "data": {
      "text/plain": [
       "3.6"
      ]
     },
     "execution_count": 17,
     "metadata": {},
     "output_type": "execute_result"
    }
   ],
   "source": [
    "a[-1]"
   ]
  },
  {
   "cell_type": "code",
   "execution_count": 18,
   "id": "778d3e20-cbbb-458a-9428-cd4a1b500f93",
   "metadata": {},
   "outputs": [
    {
     "data": {
      "text/plain": [
       "456"
      ]
     },
     "execution_count": 18,
     "metadata": {},
     "output_type": "execute_result"
    }
   ],
   "source": [
    "a[-4]"
   ]
  },
  {
   "cell_type": "code",
   "execution_count": 20,
   "id": "2b8f7707-9b12-46bc-937d-22280f263aef",
   "metadata": {},
   "outputs": [
    {
     "data": {
      "text/plain": [
       "[1, 456, 'richa']"
      ]
     },
     "execution_count": 20,
     "metadata": {},
     "output_type": "execute_result"
    }
   ],
   "source": [
    "a[0::2]"
   ]
  },
  {
   "cell_type": "code",
   "execution_count": 22,
   "id": "df4d1d70-39a4-46c6-a1e7-630098507608",
   "metadata": {},
   "outputs": [
    {
     "data": {
      "text/plain": [
       "[1, True]"
      ]
     },
     "execution_count": 22,
     "metadata": {},
     "output_type": "execute_result"
    }
   ],
   "source": [
    "a[0::3]"
   ]
  },
  {
   "cell_type": "code",
   "execution_count": 23,
   "id": "af11ccb2-715d-47e8-a3dc-6dddee1b9d44",
   "metadata": {},
   "outputs": [
    {
     "data": {
      "text/plain": [
       "[3.6, True, 234]"
      ]
     },
     "execution_count": 23,
     "metadata": {},
     "output_type": "execute_result"
    }
   ],
   "source": [
    "a[-1::-2]"
   ]
  },
  {
   "cell_type": "code",
   "execution_count": 26,
   "id": "c842608c-0afb-4a50-8f66-9b586e54d36b",
   "metadata": {},
   "outputs": [],
   "source": [
    "s = \"pwskills\""
   ]
  },
  {
   "cell_type": "code",
   "execution_count": 27,
   "id": "8d0dcd92-a2d0-490e-b22e-40a5317762cf",
   "metadata": {},
   "outputs": [
    {
     "data": {
      "text/plain": [
       "'pwskills'"
      ]
     },
     "execution_count": 27,
     "metadata": {},
     "output_type": "execute_result"
    }
   ],
   "source": [
    "s"
   ]
  },
  {
   "cell_type": "code",
   "execution_count": 28,
   "id": "3eae6878-213b-4bd7-933e-fa257e9692a9",
   "metadata": {},
   "outputs": [
    {
     "ename": "TypeError",
     "evalue": "can only concatenate list (not \"str\") to list",
     "output_type": "error",
     "traceback": [
      "\u001b[0;31m---------------------------------------------------------------------------\u001b[0m",
      "\u001b[0;31mTypeError\u001b[0m                                 Traceback (most recent call last)",
      "Cell \u001b[0;32mIn[28], line 1\u001b[0m\n\u001b[0;32m----> 1\u001b[0m \u001b[43ma\u001b[49m\u001b[38;5;241;43m+\u001b[39;49m\u001b[43ms\u001b[49m\n",
      "\u001b[0;31mTypeError\u001b[0m: can only concatenate list (not \"str\") to list"
     ]
    }
   ],
   "source": [
    "a+s"
   ]
  },
  {
   "cell_type": "code",
   "execution_count": 29,
   "id": "02ecdb9c-7262-4796-b720-2e9bb7f5b7d5",
   "metadata": {},
   "outputs": [
    {
     "ename": "TypeError",
     "evalue": "can only concatenate list (not \"int\") to list",
     "output_type": "error",
     "traceback": [
      "\u001b[0;31m---------------------------------------------------------------------------\u001b[0m",
      "\u001b[0;31mTypeError\u001b[0m                                 Traceback (most recent call last)",
      "Cell \u001b[0;32mIn[29], line 1\u001b[0m\n\u001b[0;32m----> 1\u001b[0m \u001b[38;5;28;43mlist\u001b[39;49m\u001b[43m(\u001b[49m\u001b[43ms\u001b[49m\u001b[43m)\u001b[49m\u001b[38;5;241;43m+\u001b[39;49m\u001b[38;5;241;43m1\u001b[39;49m\n",
      "\u001b[0;31mTypeError\u001b[0m: can only concatenate list (not \"int\") to list"
     ]
    }
   ],
   "source": [
    "list(s)+1"
   ]
  },
  {
   "cell_type": "code",
   "execution_count": 30,
   "id": "cbc3f15f-5eb8-43d6-a733-7d20727c7d35",
   "metadata": {},
   "outputs": [
    {
     "data": {
      "text/plain": [
       "[1, 234, 456, True, 'richa', 3.6]"
      ]
     },
     "execution_count": 30,
     "metadata": {},
     "output_type": "execute_result"
    }
   ],
   "source": [
    "a"
   ]
  },
  {
   "cell_type": "code",
   "execution_count": 31,
   "id": "1252362b-fc53-4d5b-a6c6-9d14e1b2a6b6",
   "metadata": {},
   "outputs": [
    {
     "data": {
      "text/plain": [
       "'richa'"
      ]
     },
     "execution_count": 31,
     "metadata": {},
     "output_type": "execute_result"
    }
   ],
   "source": [
    "a[4]"
   ]
  },
  {
   "cell_type": "code",
   "execution_count": 32,
   "id": "73451b55-b2bc-4e7b-a3d1-c89cb8cdbb2d",
   "metadata": {},
   "outputs": [
    {
     "data": {
      "text/plain": [
       "list"
      ]
     },
     "execution_count": 32,
     "metadata": {},
     "output_type": "execute_result"
    }
   ],
   "source": [
    "type(a)"
   ]
  },
  {
   "cell_type": "code",
   "execution_count": 34,
   "id": "9e57dc03-abf7-4fda-811a-4295ca84bddd",
   "metadata": {},
   "outputs": [
    {
     "data": {
      "text/plain": [
       "'ri'"
      ]
     },
     "execution_count": 34,
     "metadata": {},
     "output_type": "execute_result"
    }
   ],
   "source": [
    "a[4][0:2]"
   ]
  },
  {
   "cell_type": "code",
   "execution_count": 36,
   "id": "64041b7f-5bde-470c-8a22-a1a2dbac23e0",
   "metadata": {},
   "outputs": [
    {
     "data": {
      "text/plain": [
       "True"
      ]
     },
     "execution_count": 36,
     "metadata": {},
     "output_type": "execute_result"
    }
   ],
   "source": [
    "a[3]"
   ]
  },
  {
   "cell_type": "code",
   "execution_count": 38,
   "id": "76abb32d-ef2a-4a6a-8453-00d376e972b3",
   "metadata": {},
   "outputs": [
    {
     "data": {
      "text/plain": [
       "'Tru'"
      ]
     },
     "execution_count": 38,
     "metadata": {},
     "output_type": "execute_result"
    }
   ],
   "source": [
    "str(a[3])[0:3]"
   ]
  },
  {
   "cell_type": "code",
   "execution_count": 39,
   "id": "f1c1dde0-e62b-48d4-b8ea-973084721c53",
   "metadata": {},
   "outputs": [
    {
     "ename": "TypeError",
     "evalue": "can only concatenate list (not \"int\") to list",
     "output_type": "error",
     "traceback": [
      "\u001b[0;31m---------------------------------------------------------------------------\u001b[0m",
      "\u001b[0;31mTypeError\u001b[0m                                 Traceback (most recent call last)",
      "Cell \u001b[0;32mIn[39], line 1\u001b[0m\n\u001b[0;32m----> 1\u001b[0m \u001b[43ma\u001b[49m\u001b[38;5;241;43m+\u001b[39;49m\u001b[38;5;241;43m5\u001b[39;49m\n",
      "\u001b[0;31mTypeError\u001b[0m: can only concatenate list (not \"int\") to list"
     ]
    }
   ],
   "source": [
    "a+5"
   ]
  },
  {
   "cell_type": "code",
   "execution_count": 40,
   "id": "061ae1da-c9be-46b8-b94c-2956e80f4c5f",
   "metadata": {},
   "outputs": [],
   "source": [
    "a1 = [3,4,5]"
   ]
  },
  {
   "cell_type": "code",
   "execution_count": 41,
   "id": "8ca3dbfa-056b-4599-801d-6e4acf757d98",
   "metadata": {},
   "outputs": [
    {
     "data": {
      "text/plain": [
       "[3, 4, 5]"
      ]
     },
     "execution_count": 41,
     "metadata": {},
     "output_type": "execute_result"
    }
   ],
   "source": [
    "a1"
   ]
  },
  {
   "cell_type": "code",
   "execution_count": 42,
   "id": "3e622336-7f4d-471b-ac7d-39b26590c95d",
   "metadata": {},
   "outputs": [
    {
     "data": {
      "text/plain": [
       "[1, 234, 456, True, 'richa', 3.6, 3, 4, 5]"
      ]
     },
     "execution_count": 42,
     "metadata": {},
     "output_type": "execute_result"
    }
   ],
   "source": [
    "a+a1"
   ]
  },
  {
   "cell_type": "code",
   "execution_count": 43,
   "id": "7376a1bf-d7d4-4670-9e69-4b6a5aa201ac",
   "metadata": {},
   "outputs": [
    {
     "data": {
      "text/plain": [
       "[3, 4, 5, 3, 4, 5, 3, 4, 5]"
      ]
     },
     "execution_count": 43,
     "metadata": {},
     "output_type": "execute_result"
    }
   ],
   "source": [
    "a1*3"
   ]
  },
  {
   "cell_type": "code",
   "execution_count": 45,
   "id": "c645d790-3de1-45df-98fc-e43862e2ba71",
   "metadata": {},
   "outputs": [
    {
     "data": {
      "text/plain": [
       "6"
      ]
     },
     "execution_count": 45,
     "metadata": {},
     "output_type": "execute_result"
    }
   ],
   "source": [
    "len(a)"
   ]
  },
  {
   "cell_type": "code",
   "execution_count": 46,
   "id": "e0ee2b57-5a91-4941-8b84-a0c16efc287a",
   "metadata": {},
   "outputs": [
    {
     "data": {
      "text/plain": [
       "[1, 234, 456, True, 'richa', 3.6]"
      ]
     },
     "execution_count": 46,
     "metadata": {},
     "output_type": "execute_result"
    }
   ],
   "source": [
    "a"
   ]
  },
  {
   "cell_type": "code",
   "execution_count": 47,
   "id": "6582c6df-6616-4b07-91dd-b47611454ddd",
   "metadata": {},
   "outputs": [],
   "source": [
    "a.append(9)"
   ]
  },
  {
   "cell_type": "code",
   "execution_count": 48,
   "id": "6d5d63da-aa8d-47f6-ad88-bb34bcb80f80",
   "metadata": {},
   "outputs": [
    {
     "data": {
      "text/plain": [
       "[1, 234, 456, True, 'richa', 3.6, 9]"
      ]
     },
     "execution_count": 48,
     "metadata": {},
     "output_type": "execute_result"
    }
   ],
   "source": [
    "a"
   ]
  },
  {
   "cell_type": "code",
   "execution_count": 49,
   "id": "487351cd-ceee-4822-9173-a973206e2083",
   "metadata": {},
   "outputs": [],
   "source": [
    "a.append(9.5)"
   ]
  },
  {
   "cell_type": "code",
   "execution_count": 50,
   "id": "e503a4d3-bda8-4b38-97a1-167d5ca5a85a",
   "metadata": {},
   "outputs": [
    {
     "data": {
      "text/plain": [
       "[1, 234, 456, True, 'richa', 3.6, 9, 9.5]"
      ]
     },
     "execution_count": 50,
     "metadata": {},
     "output_type": "execute_result"
    }
   ],
   "source": [
    "a"
   ]
  },
  {
   "cell_type": "code",
   "execution_count": 51,
   "id": "beac2d1a-b17e-4aee-bac7-116f88bf7ce8",
   "metadata": {},
   "outputs": [],
   "source": [
    "a.append(s)"
   ]
  },
  {
   "cell_type": "code",
   "execution_count": 52,
   "id": "a96a85a9-4b9d-4a5c-9478-431d0d51b55c",
   "metadata": {},
   "outputs": [
    {
     "data": {
      "text/plain": [
       "[1, 234, 456, True, 'richa', 3.6, 9, 9.5, 'pwskills']"
      ]
     },
     "execution_count": 52,
     "metadata": {},
     "output_type": "execute_result"
    }
   ],
   "source": [
    "a"
   ]
  },
  {
   "cell_type": "code",
   "execution_count": 53,
   "id": "f090050c-b7a0-4487-9d0b-9b302cdb2d88",
   "metadata": {},
   "outputs": [],
   "source": [
    "a.append(a1)"
   ]
  },
  {
   "cell_type": "code",
   "execution_count": 54,
   "id": "d9e5dc75-dc52-4175-9a5c-5925ab181ceb",
   "metadata": {},
   "outputs": [
    {
     "data": {
      "text/plain": [
       "[1, 234, 456, True, 'richa', 3.6, 9, 9.5, 'pwskills', [3, 4, 5]]"
      ]
     },
     "execution_count": 54,
     "metadata": {},
     "output_type": "execute_result"
    }
   ],
   "source": [
    "a"
   ]
  },
  {
   "cell_type": "code",
   "execution_count": 55,
   "id": "532b36ea-1136-429a-aec9-916006f607fd",
   "metadata": {},
   "outputs": [
    {
     "data": {
      "text/plain": [
       "'richa'"
      ]
     },
     "execution_count": 55,
     "metadata": {},
     "output_type": "execute_result"
    }
   ],
   "source": [
    "a[4]"
   ]
  },
  {
   "cell_type": "code",
   "execution_count": 56,
   "id": "aa55ca60-de1b-4e31-9252-a1df9de0afb3",
   "metadata": {},
   "outputs": [
    {
     "data": {
      "text/plain": [
       "[3, 4, 5]"
      ]
     },
     "execution_count": 56,
     "metadata": {},
     "output_type": "execute_result"
    }
   ],
   "source": [
    "a[-1]"
   ]
  },
  {
   "cell_type": "code",
   "execution_count": 57,
   "id": "504e3664-edf9-4731-b07c-da6c232f896e",
   "metadata": {},
   "outputs": [
    {
     "data": {
      "text/plain": [
       "4"
      ]
     },
     "execution_count": 57,
     "metadata": {},
     "output_type": "execute_result"
    }
   ],
   "source": [
    "a[-1][1]"
   ]
  },
  {
   "cell_type": "code",
   "execution_count": 58,
   "id": "2c3a84f8-e5d5-4d17-a733-68c14f98196d",
   "metadata": {},
   "outputs": [
    {
     "data": {
      "text/plain": [
       "5"
      ]
     },
     "execution_count": 58,
     "metadata": {},
     "output_type": "execute_result"
    }
   ],
   "source": [
    "a[-1][2]"
   ]
  },
  {
   "cell_type": "code",
   "execution_count": 59,
   "id": "fc09ca60-298e-4239-84ee-26c6300f1ef7",
   "metadata": {},
   "outputs": [
    {
     "data": {
      "text/plain": [
       "[1, 234, 456, True, 'richa', 3.6, 9, 9.5, 'pwskills', [3, 4, 5]]"
      ]
     },
     "execution_count": 59,
     "metadata": {},
     "output_type": "execute_result"
    }
   ],
   "source": [
    "a"
   ]
  },
  {
   "cell_type": "code",
   "execution_count": 60,
   "id": "fb123b0a-5d72-4eb6-8c36-3cd572a264af",
   "metadata": {},
   "outputs": [
    {
     "ename": "TypeError",
     "evalue": "'int' object is not iterable",
     "output_type": "error",
     "traceback": [
      "\u001b[0;31m---------------------------------------------------------------------------\u001b[0m",
      "\u001b[0;31mTypeError\u001b[0m                                 Traceback (most recent call last)",
      "Cell \u001b[0;32mIn[60], line 1\u001b[0m\n\u001b[0;32m----> 1\u001b[0m \u001b[43ma\u001b[49m\u001b[38;5;241;43m.\u001b[39;49m\u001b[43mextend\u001b[49m\u001b[43m(\u001b[49m\u001b[38;5;241;43m3\u001b[39;49m\u001b[43m)\u001b[49m\n",
      "\u001b[0;31mTypeError\u001b[0m: 'int' object is not iterable"
     ]
    }
   ],
   "source": [
    "a.extend(3)"
   ]
  },
  {
   "cell_type": "code",
   "execution_count": 63,
   "id": "32e1046b-a5b6-45d5-9311-407c4f12751e",
   "metadata": {},
   "outputs": [],
   "source": [
    "a.extend(\"richa\")"
   ]
  },
  {
   "cell_type": "code",
   "execution_count": 64,
   "id": "395c47d9-b4f0-4837-8a06-f4e1bf06345e",
   "metadata": {},
   "outputs": [
    {
     "data": {
      "text/plain": [
       "[1,\n",
       " 234,\n",
       " 456,\n",
       " True,\n",
       " 'richa',\n",
       " 3.6,\n",
       " 9,\n",
       " 9.5,\n",
       " 'pwskills',\n",
       " [3, 4, 5],\n",
       " 'r',\n",
       " 'i',\n",
       " 'c',\n",
       " 'h',\n",
       " 'a']"
      ]
     },
     "execution_count": 64,
     "metadata": {},
     "output_type": "execute_result"
    }
   ],
   "source": [
    "a"
   ]
  },
  {
   "cell_type": "code",
   "execution_count": 65,
   "id": "8b8fe28d-b5b4-4384-afb4-2284452e28b5",
   "metadata": {},
   "outputs": [],
   "source": [
    "a.extend([3,4,5])"
   ]
  },
  {
   "cell_type": "code",
   "execution_count": 66,
   "id": "3ea84d4d-ed9c-4399-b529-caa7aafa9508",
   "metadata": {},
   "outputs": [
    {
     "data": {
      "text/plain": [
       "[1,\n",
       " 234,\n",
       " 456,\n",
       " True,\n",
       " 'richa',\n",
       " 3.6,\n",
       " 9,\n",
       " 9.5,\n",
       " 'pwskills',\n",
       " [3, 4, 5],\n",
       " 'r',\n",
       " 'i',\n",
       " 'c',\n",
       " 'h',\n",
       " 'a',\n",
       " 3,\n",
       " 4,\n",
       " 5]"
      ]
     },
     "execution_count": 66,
     "metadata": {},
     "output_type": "execute_result"
    }
   ],
   "source": [
    "a"
   ]
  },
  {
   "cell_type": "code",
   "execution_count": 67,
   "id": "39e8a895-3bfc-405e-aca6-fcd8afb9ca2c",
   "metadata": {},
   "outputs": [
    {
     "data": {
      "text/plain": [
       "[3, 4, 5]"
      ]
     },
     "execution_count": 67,
     "metadata": {},
     "output_type": "execute_result"
    }
   ],
   "source": [
    "a1"
   ]
  },
  {
   "cell_type": "code",
   "execution_count": 71,
   "id": "0b612c61-057a-47c3-82e5-693025970d59",
   "metadata": {},
   "outputs": [
    {
     "data": {
      "text/plain": [
       "[3, 4, 5, [1, 6, 8]]"
      ]
     },
     "execution_count": 71,
     "metadata": {},
     "output_type": "execute_result"
    }
   ],
   "source": [
    "a1"
   ]
  },
  {
   "cell_type": "code",
   "execution_count": 72,
   "id": "e5e56e66-87f8-4033-b17b-17c7651218ea",
   "metadata": {},
   "outputs": [],
   "source": [
    "a1.insert(1,\"suth\")"
   ]
  },
  {
   "cell_type": "code",
   "execution_count": 73,
   "id": "435dcdff-a776-4350-ae0d-b0f5ee639f6f",
   "metadata": {},
   "outputs": [
    {
     "data": {
      "text/plain": [
       "[3, 'suth', 4, 5, [1, 6, 8]]"
      ]
     },
     "execution_count": 73,
     "metadata": {},
     "output_type": "execute_result"
    }
   ],
   "source": [
    "a1"
   ]
  },
  {
   "cell_type": "code",
   "execution_count": 76,
   "id": "cdbfbbef-b567-4e4a-8f30-ce4942c0de01",
   "metadata": {},
   "outputs": [],
   "source": [
    "a1.insert(4,[5,6,8])"
   ]
  },
  {
   "cell_type": "code",
   "execution_count": 77,
   "id": "699b5593-79e4-4d3a-9c30-9506c24f93b9",
   "metadata": {},
   "outputs": [
    {
     "data": {
      "text/plain": [
       "[3, 'suth', 4, 5, [5, 6, 8], [5, 6, 8], [1, 6, 8]]"
      ]
     },
     "execution_count": 77,
     "metadata": {},
     "output_type": "execute_result"
    }
   ],
   "source": [
    "a1"
   ]
  },
  {
   "cell_type": "code",
   "execution_count": 78,
   "id": "4cb3f1db-cd39-47bc-ba79-bc96c8be192e",
   "metadata": {},
   "outputs": [],
   "source": [
    "a1.insert(0,9)"
   ]
  },
  {
   "cell_type": "code",
   "execution_count": 79,
   "id": "ab26b2ad-9c4a-42dd-a999-832f461b9917",
   "metadata": {},
   "outputs": [
    {
     "data": {
      "text/plain": [
       "[9, 3, 'suth', 4, 5, [5, 6, 8], [5, 6, 8], [1, 6, 8]]"
      ]
     },
     "execution_count": 79,
     "metadata": {},
     "output_type": "execute_result"
    }
   ],
   "source": [
    "a1"
   ]
  },
  {
   "cell_type": "code",
   "execution_count": 80,
   "id": "6609d817-e88f-4db9-aae4-a87704b53685",
   "metadata": {},
   "outputs": [],
   "source": [
    "a1.insert(-1,45)"
   ]
  },
  {
   "cell_type": "code",
   "execution_count": 81,
   "id": "1eecd382-b972-448f-9b3a-a52fb109e9b2",
   "metadata": {},
   "outputs": [
    {
     "data": {
      "text/plain": [
       "[9, 3, 'suth', 4, 5, [5, 6, 8], [5, 6, 8], 45, [1, 6, 8]]"
      ]
     },
     "execution_count": 81,
     "metadata": {},
     "output_type": "execute_result"
    }
   ],
   "source": [
    "a1"
   ]
  },
  {
   "cell_type": "code",
   "execution_count": 82,
   "id": "fada7005-707d-4856-86f2-fc172656e495",
   "metadata": {},
   "outputs": [],
   "source": [
    "a1.insert(1,\"prem\")"
   ]
  },
  {
   "cell_type": "code",
   "execution_count": 83,
   "id": "d8e02b81-a0de-4f30-985e-365a0a0ad57b",
   "metadata": {},
   "outputs": [
    {
     "data": {
      "text/plain": [
       "[9, 'prem', 3, 'suth', 4, 5, [5, 6, 8], [5, 6, 8], 45, [1, 6, 8]]"
      ]
     },
     "execution_count": 83,
     "metadata": {},
     "output_type": "execute_result"
    }
   ],
   "source": [
    "a1"
   ]
  },
  {
   "cell_type": "code",
   "execution_count": 85,
   "id": "ec71eac8-29e0-4ead-82ad-b8267076aae2",
   "metadata": {},
   "outputs": [],
   "source": [
    "a1.insert(0,45)"
   ]
  },
  {
   "cell_type": "code",
   "execution_count": 86,
   "id": "72541c55-3ff5-4a6e-a70f-c492c1efa778",
   "metadata": {},
   "outputs": [
    {
     "data": {
      "text/plain": [
       "[45, 9, 'prem', 3, 'suth', 4, 5, [5, 6, 8], [5, 6, 8], 45, 45, [1, 6, 8]]"
      ]
     },
     "execution_count": 86,
     "metadata": {},
     "output_type": "execute_result"
    }
   ],
   "source": [
    "a1"
   ]
  },
  {
   "cell_type": "code",
   "execution_count": 87,
   "id": "4867d10f-da7d-4129-89f6-d0977a4a7003",
   "metadata": {},
   "outputs": [
    {
     "data": {
      "text/plain": [
       "[1, 6, 8]"
      ]
     },
     "execution_count": 87,
     "metadata": {},
     "output_type": "execute_result"
    }
   ],
   "source": [
    "a1.pop()"
   ]
  },
  {
   "cell_type": "code",
   "execution_count": 88,
   "id": "e0078740-5358-4a77-92c9-55ef6603df64",
   "metadata": {},
   "outputs": [
    {
     "data": {
      "text/plain": [
       "[45, 9, 'prem', 3, 'suth', 4, 5, [5, 6, 8], [5, 6, 8], 45, 45]"
      ]
     },
     "execution_count": 88,
     "metadata": {},
     "output_type": "execute_result"
    }
   ],
   "source": [
    "a1"
   ]
  },
  {
   "cell_type": "code",
   "execution_count": 89,
   "id": "47f8db4d-5fbc-435f-ae6c-9ed4d1916817",
   "metadata": {},
   "outputs": [
    {
     "data": {
      "text/plain": [
       "45"
      ]
     },
     "execution_count": 89,
     "metadata": {},
     "output_type": "execute_result"
    }
   ],
   "source": [
    "a1.pop()"
   ]
  },
  {
   "cell_type": "code",
   "execution_count": 90,
   "id": "4d294672-b309-4873-952b-363633eb8fc4",
   "metadata": {},
   "outputs": [
    {
     "data": {
      "text/plain": [
       "[45, 9, 'prem', 3, 'suth', 4, 5, [5, 6, 8], [5, 6, 8], 45]"
      ]
     },
     "execution_count": 90,
     "metadata": {},
     "output_type": "execute_result"
    }
   ],
   "source": [
    "a1"
   ]
  },
  {
   "cell_type": "code",
   "execution_count": 91,
   "id": "07397c27-b96a-49b6-9a0c-a14eac34dcc7",
   "metadata": {},
   "outputs": [
    {
     "data": {
      "text/plain": [
       "'prem'"
      ]
     },
     "execution_count": 91,
     "metadata": {},
     "output_type": "execute_result"
    }
   ],
   "source": [
    "a1.pop(2)"
   ]
  },
  {
   "cell_type": "code",
   "execution_count": 92,
   "id": "b59bf3db-6f88-4c7d-8f05-e7f26280a21c",
   "metadata": {},
   "outputs": [
    {
     "data": {
      "text/plain": [
       "[45, 9, 3, 'suth', 4, 5, [5, 6, 8], [5, 6, 8], 45]"
      ]
     },
     "execution_count": 92,
     "metadata": {},
     "output_type": "execute_result"
    }
   ],
   "source": [
    "a1"
   ]
  },
  {
   "cell_type": "code",
   "execution_count": 93,
   "id": "1c536bca-07c4-45db-8c3b-a7dcf998726a",
   "metadata": {},
   "outputs": [
    {
     "data": {
      "text/plain": [
       "'suth'"
      ]
     },
     "execution_count": 93,
     "metadata": {},
     "output_type": "execute_result"
    }
   ],
   "source": [
    "a1.pop(3)"
   ]
  },
  {
   "cell_type": "code",
   "execution_count": 94,
   "id": "5368110d-6957-4210-9a09-6a5f8197c4f2",
   "metadata": {},
   "outputs": [
    {
     "data": {
      "text/plain": [
       "[45, 9, 3, 4, 5, [5, 6, 8], [5, 6, 8], 45]"
      ]
     },
     "execution_count": 94,
     "metadata": {},
     "output_type": "execute_result"
    }
   ],
   "source": [
    "a1"
   ]
  },
  {
   "cell_type": "code",
   "execution_count": 97,
   "id": "22d0c3bc-3a61-443c-bd09-93a966201f4b",
   "metadata": {},
   "outputs": [],
   "source": [
    "a1.remove(45)"
   ]
  },
  {
   "cell_type": "code",
   "execution_count": 98,
   "id": "f86fff65-8d8f-42a0-aa28-ff5793684e53",
   "metadata": {},
   "outputs": [
    {
     "data": {
      "text/plain": [
       "[9, 3, 4, 5, [5, 6, 8], [5, 6, 8], 45]"
      ]
     },
     "execution_count": 98,
     "metadata": {},
     "output_type": "execute_result"
    }
   ],
   "source": [
    "a1"
   ]
  },
  {
   "cell_type": "code",
   "execution_count": 99,
   "id": "9f95606a-8a27-4d25-8a7d-1a7a330b249a",
   "metadata": {},
   "outputs": [],
   "source": [
    "a1.remove(45)"
   ]
  },
  {
   "cell_type": "code",
   "execution_count": 100,
   "id": "f5a2c263-24db-4f4d-b5c9-a470b98c07e2",
   "metadata": {},
   "outputs": [
    {
     "data": {
      "text/plain": [
       "[9, 3, 4, 5, [5, 6, 8], [5, 6, 8]]"
      ]
     },
     "execution_count": 100,
     "metadata": {},
     "output_type": "execute_result"
    }
   ],
   "source": [
    "a1"
   ]
  },
  {
   "cell_type": "code",
   "execution_count": 101,
   "id": "7c88482b-11d3-427e-a5d0-66a0499126e3",
   "metadata": {},
   "outputs": [
    {
     "ename": "ValueError",
     "evalue": "list.remove(x): x not in list",
     "output_type": "error",
     "traceback": [
      "\u001b[0;31m---------------------------------------------------------------------------\u001b[0m",
      "\u001b[0;31mValueError\u001b[0m                                Traceback (most recent call last)",
      "Cell \u001b[0;32mIn[101], line 1\u001b[0m\n\u001b[0;32m----> 1\u001b[0m \u001b[43ma1\u001b[49m\u001b[38;5;241;43m.\u001b[39;49m\u001b[43mremove\u001b[49m\u001b[43m(\u001b[49m\u001b[38;5;241;43m40\u001b[39;49m\u001b[43m)\u001b[49m\n",
      "\u001b[0;31mValueError\u001b[0m: list.remove(x): x not in list"
     ]
    }
   ],
   "source": [
    "a1.remove(40)"
   ]
  },
  {
   "cell_type": "code",
   "execution_count": 102,
   "id": "c7f293aa-d461-48c0-9a3a-05ac93a32f86",
   "metadata": {},
   "outputs": [
    {
     "data": {
      "text/plain": [
       "[9, 3, 4, 5, [5, 6, 8], [5, 6, 8]]"
      ]
     },
     "execution_count": 102,
     "metadata": {},
     "output_type": "execute_result"
    }
   ],
   "source": [
    "a1"
   ]
  },
  {
   "cell_type": "code",
   "execution_count": 103,
   "id": "192fdbf4-8749-4b63-8b78-9b9e20cdc826",
   "metadata": {},
   "outputs": [
    {
     "data": {
      "text/plain": [
       "[5, 6, 8]"
      ]
     },
     "execution_count": 103,
     "metadata": {},
     "output_type": "execute_result"
    }
   ],
   "source": [
    "a1[4]"
   ]
  },
  {
   "cell_type": "code",
   "execution_count": 104,
   "id": "cff3fe21-7633-4d46-8cd1-d5bfcc0557ae",
   "metadata": {},
   "outputs": [],
   "source": [
    "a1[4].remove(8)"
   ]
  },
  {
   "cell_type": "code",
   "execution_count": 105,
   "id": "bb3028d5-6231-4e85-91ff-caf95fb0a4cd",
   "metadata": {},
   "outputs": [
    {
     "data": {
      "text/plain": [
       "[9, 3, 4, 5, [5, 6], [5, 6, 8]]"
      ]
     },
     "execution_count": 105,
     "metadata": {},
     "output_type": "execute_result"
    }
   ],
   "source": [
    "a1"
   ]
  },
  {
   "cell_type": "code",
   "execution_count": 107,
   "id": "a0ac3555-c34c-4a23-8fb9-9d43a144a9c5",
   "metadata": {},
   "outputs": [],
   "source": [
    "a1.insert(1,\"suth\")"
   ]
  },
  {
   "cell_type": "code",
   "execution_count": 108,
   "id": "6d554442-e956-494e-81ef-c0fac7da17b1",
   "metadata": {},
   "outputs": [
    {
     "data": {
      "text/plain": [
       "[9, 'suth', 3, 4, 5, [5, 6], [5, 6, 8]]"
      ]
     },
     "execution_count": 108,
     "metadata": {},
     "output_type": "execute_result"
    }
   ],
   "source": [
    "a1"
   ]
  },
  {
   "cell_type": "code",
   "execution_count": 110,
   "id": "9250e591-f01e-44ff-bff4-ce70d72e866c",
   "metadata": {},
   "outputs": [],
   "source": [
    "a1.remove(4)"
   ]
  },
  {
   "cell_type": "code",
   "execution_count": 111,
   "id": "f7e9355c-1e20-4078-bb16-47b8b50b7a7c",
   "metadata": {},
   "outputs": [
    {
     "data": {
      "text/plain": [
       "[9, 'suth', 3, 5, [5, 6], [5, 6, 8]]"
      ]
     },
     "execution_count": 111,
     "metadata": {},
     "output_type": "execute_result"
    }
   ],
   "source": [
    "a1"
   ]
  },
  {
   "cell_type": "code",
   "execution_count": 112,
   "id": "4c849585-902b-4e73-ac85-8faf68dc4d1a",
   "metadata": {},
   "outputs": [
    {
     "data": {
      "text/plain": [
       "[[5, 6, 8], [5, 6], 5, 3, 'suth', 9]"
      ]
     },
     "execution_count": 112,
     "metadata": {},
     "output_type": "execute_result"
    }
   ],
   "source": [
    "a1[::-1]"
   ]
  },
  {
   "cell_type": "code",
   "execution_count": 113,
   "id": "f6bf2bc3-12f8-4b21-8e60-3e9c6aaf1f73",
   "metadata": {},
   "outputs": [],
   "source": [
    "a1.reverse()"
   ]
  },
  {
   "cell_type": "code",
   "execution_count": 114,
   "id": "39b1d032-1c2a-4c83-8854-25007ca17267",
   "metadata": {},
   "outputs": [
    {
     "data": {
      "text/plain": [
       "[[5, 6, 8], [5, 6], 5, 3, 'suth', 9]"
      ]
     },
     "execution_count": 114,
     "metadata": {},
     "output_type": "execute_result"
    }
   ],
   "source": [
    "a1"
   ]
  },
  {
   "cell_type": "code",
   "execution_count": 115,
   "id": "eadf90b1-131f-4a82-8d0a-da9de3b7ea87",
   "metadata": {},
   "outputs": [
    {
     "data": {
      "text/plain": [
       "[[5, 6, 8], [5, 6], 5, 3, 'suth', 9]"
      ]
     },
     "execution_count": 115,
     "metadata": {},
     "output_type": "execute_result"
    }
   ],
   "source": [
    "a1"
   ]
  },
  {
   "cell_type": "code",
   "execution_count": 116,
   "id": "d382651b-10cc-4f2b-85d8-8f21f4135edf",
   "metadata": {},
   "outputs": [],
   "source": [
    "a1 = a1[::-1]"
   ]
  },
  {
   "cell_type": "code",
   "execution_count": 117,
   "id": "39a03c4f-090a-452d-b567-a907c0d5d8da",
   "metadata": {},
   "outputs": [
    {
     "data": {
      "text/plain": [
       "[9, 'suth', 3, 5, [5, 6], [5, 6, 8]]"
      ]
     },
     "execution_count": 117,
     "metadata": {},
     "output_type": "execute_result"
    }
   ],
   "source": [
    "a1"
   ]
  },
  {
   "cell_type": "code",
   "execution_count": 118,
   "id": "6b974b95-c7e7-4f6f-8f6d-08eba9befcce",
   "metadata": {},
   "outputs": [
    {
     "data": {
      "text/plain": [
       "[9, 'suth', 3, 5, [5, 6], [5, 6, 8]]"
      ]
     },
     "execution_count": 118,
     "metadata": {},
     "output_type": "execute_result"
    }
   ],
   "source": [
    "a1"
   ]
  },
  {
   "cell_type": "code",
   "execution_count": 119,
   "id": "28d97860-bfc9-4a7e-8ce8-f41e9cdd4729",
   "metadata": {},
   "outputs": [
    {
     "ename": "TypeError",
     "evalue": "'<' not supported between instances of 'str' and 'int'",
     "output_type": "error",
     "traceback": [
      "\u001b[0;31m---------------------------------------------------------------------------\u001b[0m",
      "\u001b[0;31mTypeError\u001b[0m                                 Traceback (most recent call last)",
      "Cell \u001b[0;32mIn[119], line 1\u001b[0m\n\u001b[0;32m----> 1\u001b[0m \u001b[43ma1\u001b[49m\u001b[38;5;241;43m.\u001b[39;49m\u001b[43msort\u001b[49m\u001b[43m(\u001b[49m\u001b[43m)\u001b[49m\n",
      "\u001b[0;31mTypeError\u001b[0m: '<' not supported between instances of 'str' and 'int'"
     ]
    }
   ],
   "source": [
    "a1.sort()"
   ]
  },
  {
   "cell_type": "code",
   "execution_count": 123,
   "id": "bfabed03-599b-4e5e-990f-46a47ef59a27",
   "metadata": {},
   "outputs": [],
   "source": [
    "a2 = [3,4,5,45,23,90,6,7,8,9]"
   ]
  },
  {
   "cell_type": "code",
   "execution_count": 124,
   "id": "f0008277-deda-4f07-ae60-cc513919d829",
   "metadata": {},
   "outputs": [],
   "source": [
    "a2.sort()"
   ]
  },
  {
   "cell_type": "code",
   "execution_count": 125,
   "id": "4a719d32-c044-4c4a-a48c-61c867702c12",
   "metadata": {},
   "outputs": [
    {
     "data": {
      "text/plain": [
       "[3, 4, 5, 6, 7, 8, 9, 23, 45, 90]"
      ]
     },
     "execution_count": 125,
     "metadata": {},
     "output_type": "execute_result"
    }
   ],
   "source": [
    "a2"
   ]
  },
  {
   "cell_type": "code",
   "execution_count": 126,
   "id": "0115e8f5-e45a-4846-9abd-f49afa150b09",
   "metadata": {},
   "outputs": [
    {
     "data": {
      "text/plain": [
       "[3, 4, 5, 6, 7, 8, 9, 23, 45, 90]"
      ]
     },
     "execution_count": 126,
     "metadata": {},
     "output_type": "execute_result"
    }
   ],
   "source": [
    "a2"
   ]
  },
  {
   "cell_type": "code",
   "execution_count": 127,
   "id": "6c10fe32-1fcf-4e15-a7e7-2811360c8b9d",
   "metadata": {},
   "outputs": [],
   "source": [
    "a3 = [34,\"richa\",45,11,\"prem\"]"
   ]
  },
  {
   "cell_type": "code",
   "execution_count": 128,
   "id": "426fe2cd-c3bd-48a0-b0f2-3c8d5b3248a4",
   "metadata": {},
   "outputs": [
    {
     "ename": "TypeError",
     "evalue": "'<' not supported between instances of 'str' and 'int'",
     "output_type": "error",
     "traceback": [
      "\u001b[0;31m---------------------------------------------------------------------------\u001b[0m",
      "\u001b[0;31mTypeError\u001b[0m                                 Traceback (most recent call last)",
      "Cell \u001b[0;32mIn[128], line 1\u001b[0m\n\u001b[0;32m----> 1\u001b[0m \u001b[43ma3\u001b[49m\u001b[38;5;241;43m.\u001b[39;49m\u001b[43msort\u001b[49m\u001b[43m(\u001b[49m\u001b[43m)\u001b[49m\n",
      "\u001b[0;31mTypeError\u001b[0m: '<' not supported between instances of 'str' and 'int'"
     ]
    }
   ],
   "source": [
    "a3.sort()"
   ]
  },
  {
   "cell_type": "code",
   "execution_count": 129,
   "id": "5d67c619-28b6-418b-947c-60036bee6c9f",
   "metadata": {},
   "outputs": [],
   "source": [
    "a4 = ['richa','data science','kumar','pwskills']"
   ]
  },
  {
   "cell_type": "code",
   "execution_count": 130,
   "id": "83a14d87-fe9c-4ce2-b2d6-170b382928e2",
   "metadata": {},
   "outputs": [
    {
     "data": {
      "text/plain": [
       "['richa', 'data science', 'kumar', 'pwskills']"
      ]
     },
     "execution_count": 130,
     "metadata": {},
     "output_type": "execute_result"
    }
   ],
   "source": [
    "a4"
   ]
  },
  {
   "cell_type": "code",
   "execution_count": 131,
   "id": "088ab57e-f4a7-4cc3-9a45-56e4f9b02b39",
   "metadata": {},
   "outputs": [],
   "source": [
    "a4.sort()"
   ]
  },
  {
   "cell_type": "code",
   "execution_count": 132,
   "id": "a960e456-dac3-4cf9-9635-749a6b55ad05",
   "metadata": {},
   "outputs": [
    {
     "data": {
      "text/plain": [
       "['data science', 'kumar', 'pwskills', 'richa']"
      ]
     },
     "execution_count": 132,
     "metadata": {},
     "output_type": "execute_result"
    }
   ],
   "source": [
    "a4"
   ]
  },
  {
   "cell_type": "code",
   "execution_count": 133,
   "id": "38da9af9-9bc8-452a-b585-276cfd6f468f",
   "metadata": {},
   "outputs": [],
   "source": [
    "a4.sort(reverse=True)"
   ]
  },
  {
   "cell_type": "code",
   "execution_count": 134,
   "id": "76a28355-ec77-495f-ad5f-e2243025ecbb",
   "metadata": {},
   "outputs": [
    {
     "data": {
      "text/plain": [
       "['richa', 'pwskills', 'kumar', 'data science']"
      ]
     },
     "execution_count": 134,
     "metadata": {},
     "output_type": "execute_result"
    }
   ],
   "source": [
    "a4"
   ]
  },
  {
   "cell_type": "code",
   "execution_count": 135,
   "id": "fe37e074-8a1b-4349-aa27-9ef8ea37097a",
   "metadata": {},
   "outputs": [
    {
     "data": {
      "text/plain": [
       "0"
      ]
     },
     "execution_count": 135,
     "metadata": {},
     "output_type": "execute_result"
    }
   ],
   "source": [
    "a4.index(\"richa\")"
   ]
  },
  {
   "cell_type": "code",
   "execution_count": 136,
   "id": "c51db998-6da6-4f7d-afe0-a20d07022854",
   "metadata": {},
   "outputs": [
    {
     "data": {
      "text/plain": [
       "1"
      ]
     },
     "execution_count": 136,
     "metadata": {},
     "output_type": "execute_result"
    }
   ],
   "source": [
    "a4.count(\"richa\")"
   ]
  },
  {
   "cell_type": "code",
   "execution_count": 137,
   "id": "0cc69135-de1c-4b70-b297-9a3b384d50eb",
   "metadata": {},
   "outputs": [
    {
     "data": {
      "text/plain": [
       "1"
      ]
     },
     "execution_count": 137,
     "metadata": {},
     "output_type": "execute_result"
    }
   ],
   "source": [
    "a4.count('kumar')"
   ]
  },
  {
   "cell_type": "code",
   "execution_count": 138,
   "id": "042e4746-7190-4fa0-854a-4c53a1b75097",
   "metadata": {},
   "outputs": [],
   "source": [
    "s = \"sudh\""
   ]
  },
  {
   "cell_type": "code",
   "execution_count": 139,
   "id": "9aeadb66-c208-43ee-b9dc-07d1eb522e72",
   "metadata": {},
   "outputs": [],
   "source": [
    "a5 = [3,4,5,6]"
   ]
  },
  {
   "cell_type": "code",
   "execution_count": 140,
   "id": "ba021ed7-55e6-4e74-bbba-a745d34d45be",
   "metadata": {},
   "outputs": [
    {
     "data": {
      "text/plain": [
       "[3, 4, 5, 6]"
      ]
     },
     "execution_count": 140,
     "metadata": {},
     "output_type": "execute_result"
    }
   ],
   "source": [
    "a5"
   ]
  },
  {
   "cell_type": "code",
   "execution_count": 142,
   "id": "d84b2159-3056-41fe-9ca7-cd5569d72ce6",
   "metadata": {},
   "outputs": [
    {
     "ename": "TypeError",
     "evalue": "'str' object does not support item assignment",
     "output_type": "error",
     "traceback": [
      "\u001b[0;31m---------------------------------------------------------------------------\u001b[0m",
      "\u001b[0;31mTypeError\u001b[0m                                 Traceback (most recent call last)",
      "Cell \u001b[0;32mIn[142], line 1\u001b[0m\n\u001b[0;32m----> 1\u001b[0m \u001b[43ms\u001b[49m\u001b[43m[\u001b[49m\u001b[38;5;241;43m0\u001b[39;49m\u001b[43m]\u001b[49m \u001b[38;5;241m=\u001b[39m \u001b[38;5;124m\"\u001b[39m\u001b[38;5;124ma\u001b[39m\u001b[38;5;124m\"\u001b[39m\n",
      "\u001b[0;31mTypeError\u001b[0m: 'str' object does not support item assignment"
     ]
    }
   ],
   "source": [
    "s[0] = \"a\""
   ]
  },
  {
   "cell_type": "code",
   "execution_count": 143,
   "id": "def3bb8b-0623-4800-8331-f5320303fda5",
   "metadata": {},
   "outputs": [],
   "source": [
    "a5[0] = 40"
   ]
  },
  {
   "cell_type": "code",
   "execution_count": 144,
   "id": "7eb9463d-fb67-44b0-96da-7eea56df1603",
   "metadata": {},
   "outputs": [
    {
     "data": {
      "text/plain": [
       "[40, 4, 5, 6]"
      ]
     },
     "execution_count": 144,
     "metadata": {},
     "output_type": "execute_result"
    }
   ],
   "source": [
    "a5"
   ]
  },
  {
   "cell_type": "code",
   "execution_count": 145,
   "id": "4a68cf61-1734-4b00-bed5-e8af41ce1dde",
   "metadata": {},
   "outputs": [],
   "source": [
    "a5[3] = 70"
   ]
  },
  {
   "cell_type": "code",
   "execution_count": 146,
   "id": "2c37245b-7c57-4905-8c54-7216ed9c74da",
   "metadata": {},
   "outputs": [
    {
     "data": {
      "text/plain": [
       "[40, 4, 5, 70]"
      ]
     },
     "execution_count": 146,
     "metadata": {},
     "output_type": "execute_result"
    }
   ],
   "source": [
    "a5"
   ]
  },
  {
   "cell_type": "code",
   "execution_count": 147,
   "id": "d583b68a-4fa8-4b21-8a7a-548c4e726bb1",
   "metadata": {},
   "outputs": [
    {
     "data": {
      "text/plain": [
       "'sudh'"
      ]
     },
     "execution_count": 147,
     "metadata": {},
     "output_type": "execute_result"
    }
   ],
   "source": [
    "s"
   ]
  },
  {
   "cell_type": "code",
   "execution_count": 148,
   "id": "15d2be7c-0f80-43f5-9f78-6151e15ac6ac",
   "metadata": {},
   "outputs": [
    {
     "data": {
      "text/plain": [
       "'audh'"
      ]
     },
     "execution_count": 148,
     "metadata": {},
     "output_type": "execute_result"
    }
   ],
   "source": [
    "s.replace('s', 'a')"
   ]
  },
  {
   "cell_type": "code",
   "execution_count": 149,
   "id": "0c0de2fa-1eca-494d-bfb7-5672029fcce7",
   "metadata": {},
   "outputs": [
    {
     "data": {
      "text/plain": [
       "'sudh'"
      ]
     },
     "execution_count": 149,
     "metadata": {},
     "output_type": "execute_result"
    }
   ],
   "source": [
    "s"
   ]
  },
  {
   "cell_type": "code",
   "execution_count": 150,
   "id": "75c5e2c7-1f31-4fd2-9282-ad7a929f7fca",
   "metadata": {},
   "outputs": [],
   "source": [
    "t = (2,3,4,5,\"sudh\",45.56,45+45j,[3,4,5])"
   ]
  },
  {
   "cell_type": "code",
   "execution_count": 151,
   "id": "244dae25-a765-4e0b-9965-17b220a1d652",
   "metadata": {},
   "outputs": [
    {
     "data": {
      "text/plain": [
       "(2, 3, 4, 5, 'sudh', 45.56, (45+45j), [3, 4, 5])"
      ]
     },
     "execution_count": 151,
     "metadata": {},
     "output_type": "execute_result"
    }
   ],
   "source": [
    "t"
   ]
  },
  {
   "cell_type": "code",
   "execution_count": 152,
   "id": "f2d221b8-3116-4e38-adac-0f010c81bae9",
   "metadata": {},
   "outputs": [
    {
     "data": {
      "text/plain": [
       "tuple"
      ]
     },
     "execution_count": 152,
     "metadata": {},
     "output_type": "execute_result"
    }
   ],
   "source": [
    "type(t)"
   ]
  },
  {
   "cell_type": "code",
   "execution_count": 153,
   "id": "c7e0c484-4e77-4fd6-89c9-33cef4b2441d",
   "metadata": {},
   "outputs": [
    {
     "data": {
      "text/plain": [
       "8"
      ]
     },
     "execution_count": 153,
     "metadata": {},
     "output_type": "execute_result"
    }
   ],
   "source": [
    "len(t)"
   ]
  },
  {
   "cell_type": "code",
   "execution_count": 154,
   "id": "51826100-ee9f-4e42-9621-c793e0ad3fd8",
   "metadata": {},
   "outputs": [
    {
     "data": {
      "text/plain": [
       "2"
      ]
     },
     "execution_count": 154,
     "metadata": {},
     "output_type": "execute_result"
    }
   ],
   "source": [
    "t[0]"
   ]
  },
  {
   "cell_type": "code",
   "execution_count": 155,
   "id": "2177f745-9d76-4a2a-8031-f84e6ec62975",
   "metadata": {},
   "outputs": [
    {
     "data": {
      "text/plain": [
       "[3, 4, 5]"
      ]
     },
     "execution_count": 155,
     "metadata": {},
     "output_type": "execute_result"
    }
   ],
   "source": [
    "t[-1]"
   ]
  },
  {
   "cell_type": "code",
   "execution_count": 156,
   "id": "37909de0-9544-4b0b-9a09-939da9a1f566",
   "metadata": {},
   "outputs": [
    {
     "data": {
      "text/plain": [
       "([3, 4, 5], (45+45j), 45.56, 'sudh', 5, 4, 3, 2)"
      ]
     },
     "execution_count": 156,
     "metadata": {},
     "output_type": "execute_result"
    }
   ],
   "source": [
    "t[::-1]"
   ]
  },
  {
   "cell_type": "code",
   "execution_count": 157,
   "id": "939ce081-01eb-42d0-90bc-f941d852eab1",
   "metadata": {},
   "outputs": [
    {
     "data": {
      "text/plain": [
       "['richa', 'pwskills', 'kumar', 'data science']"
      ]
     },
     "execution_count": 157,
     "metadata": {},
     "output_type": "execute_result"
    }
   ],
   "source": [
    "a4"
   ]
  },
  {
   "cell_type": "code",
   "execution_count": 158,
   "id": "0bae3575-0732-4c35-b438-948459f2c070",
   "metadata": {},
   "outputs": [],
   "source": [
    "a4[0] = 23456"
   ]
  },
  {
   "cell_type": "code",
   "execution_count": 159,
   "id": "7a1833ea-3277-4389-8855-509de1705a01",
   "metadata": {},
   "outputs": [
    {
     "data": {
      "text/plain": [
       "[23456, 'pwskills', 'kumar', 'data science']"
      ]
     },
     "execution_count": 159,
     "metadata": {},
     "output_type": "execute_result"
    }
   ],
   "source": [
    "a4"
   ]
  },
  {
   "cell_type": "code",
   "execution_count": 160,
   "id": "e85841e5-594c-4a80-b58e-70c4f10df913",
   "metadata": {},
   "outputs": [
    {
     "ename": "TypeError",
     "evalue": "'tuple' object does not support item assignment",
     "output_type": "error",
     "traceback": [
      "\u001b[0;31m---------------------------------------------------------------------------\u001b[0m",
      "\u001b[0;31mTypeError\u001b[0m                                 Traceback (most recent call last)",
      "Cell \u001b[0;32mIn[160], line 1\u001b[0m\n\u001b[0;32m----> 1\u001b[0m \u001b[43mt\u001b[49m\u001b[43m[\u001b[49m\u001b[38;5;241;43m0\u001b[39;49m\u001b[43m]\u001b[49m \u001b[38;5;241m=\u001b[39m \u001b[38;5;124m\"\u001b[39m\u001b[38;5;124msudh\u001b[39m\u001b[38;5;124m\"\u001b[39m\n",
      "\u001b[0;31mTypeError\u001b[0m: 'tuple' object does not support item assignment"
     ]
    }
   ],
   "source": [
    "t[0] = \"sudh\""
   ]
  },
  {
   "cell_type": "code",
   "execution_count": 161,
   "id": "49c5c1d8-e52d-4b7d-939c-0866be7f0b18",
   "metadata": {},
   "outputs": [
    {
     "data": {
      "text/plain": [
       "([3, 4, 5], (45+45j), 45.56, 'sudh', 5, 4, 3, 2)"
      ]
     },
     "execution_count": 161,
     "metadata": {},
     "output_type": "execute_result"
    }
   ],
   "source": [
    "t[::-1]"
   ]
  },
  {
   "cell_type": "code",
   "execution_count": 162,
   "id": "889db42e-d555-4d85-ba05-178a01d203a7",
   "metadata": {},
   "outputs": [
    {
     "data": {
      "text/plain": [
       "(2, 3, 4, 5, 'sudh', 45.56, (45+45j), [3, 4, 5])"
      ]
     },
     "execution_count": 162,
     "metadata": {},
     "output_type": "execute_result"
    }
   ],
   "source": [
    "t"
   ]
  },
  {
   "cell_type": "code",
   "execution_count": 163,
   "id": "7332b416-d4fc-4467-a45d-e1df1a174737",
   "metadata": {},
   "outputs": [
    {
     "data": {
      "text/plain": [
       "1"
      ]
     },
     "execution_count": 163,
     "metadata": {},
     "output_type": "execute_result"
    }
   ],
   "source": [
    "t.count(5)"
   ]
  },
  {
   "cell_type": "code",
   "execution_count": 166,
   "id": "b607540f-d80d-4acc-9c9e-4f4b6165cfe3",
   "metadata": {},
   "outputs": [
    {
     "data": {
      "text/plain": [
       "4"
      ]
     },
     "execution_count": 166,
     "metadata": {},
     "output_type": "execute_result"
    }
   ],
   "source": [
    "t.index(\"sudh\")"
   ]
  },
  {
   "cell_type": "code",
   "execution_count": 167,
   "id": "a0b022c4-9709-4300-9cbe-5949358d0299",
   "metadata": {},
   "outputs": [],
   "source": [
    "s1 = {}"
   ]
  },
  {
   "cell_type": "code",
   "execution_count": 168,
   "id": "7b12b7f1-133a-450e-b595-6e8223a6e4fd",
   "metadata": {},
   "outputs": [
    {
     "data": {
      "text/plain": [
       "dict"
      ]
     },
     "execution_count": 168,
     "metadata": {},
     "output_type": "execute_result"
    }
   ],
   "source": [
    "type(s1)"
   ]
  },
  {
   "cell_type": "code",
   "execution_count": 169,
   "id": "147c41e4-9365-403e-8eca-1fc04d25eaad",
   "metadata": {},
   "outputs": [],
   "source": [
    "s2 = {2,3,4,55,6}"
   ]
  },
  {
   "cell_type": "code",
   "execution_count": 170,
   "id": "04936cf4-5b62-4be3-96f9-0ec79bd53ee0",
   "metadata": {},
   "outputs": [
    {
     "data": {
      "text/plain": [
       "{2, 3, 4, 6, 55}"
      ]
     },
     "execution_count": 170,
     "metadata": {},
     "output_type": "execute_result"
    }
   ],
   "source": [
    "s2"
   ]
  },
  {
   "cell_type": "code",
   "execution_count": 171,
   "id": "efb422f9-7961-440d-80f0-14c864c4e4c0",
   "metadata": {},
   "outputs": [
    {
     "data": {
      "text/plain": [
       "set"
      ]
     },
     "execution_count": 171,
     "metadata": {},
     "output_type": "execute_result"
    }
   ],
   "source": [
    "type(s2)"
   ]
  },
  {
   "cell_type": "code",
   "execution_count": 172,
   "id": "0481ded0-628b-4630-b641-c8a2d8cbc42b",
   "metadata": {},
   "outputs": [
    {
     "ename": "TypeError",
     "evalue": "unhashable type: 'list'",
     "output_type": "error",
     "traceback": [
      "\u001b[0;31m---------------------------------------------------------------------------\u001b[0m",
      "\u001b[0;31mTypeError\u001b[0m                                 Traceback (most recent call last)",
      "Cell \u001b[0;32mIn[172], line 1\u001b[0m\n\u001b[0;32m----> 1\u001b[0m s3 \u001b[38;5;241m=\u001b[39m {\u001b[38;5;241m456\u001b[39m,\u001b[38;5;241m67\u001b[39m,\u001b[38;5;124m\"\u001b[39m\u001b[38;5;124mricha\u001b[39m\u001b[38;5;124m\"\u001b[39m,\u001b[38;5;241m45\u001b[39m\u001b[38;5;241m+\u001b[39m\u001b[38;5;241m45\u001b[39mj,[\u001b[38;5;241m2\u001b[39m,\u001b[38;5;241m3\u001b[39m,\u001b[38;5;241m4\u001b[39m]}\n",
      "\u001b[0;31mTypeError\u001b[0m: unhashable type: 'list'"
     ]
    }
   ],
   "source": [
    "s3 = {456,67,\"richa\",45+45j,[2,3,4]}"
   ]
  },
  {
   "cell_type": "code",
   "execution_count": 173,
   "id": "edf9aa01-c500-418a-a7e1-4f67d58ed81d",
   "metadata": {},
   "outputs": [],
   "source": [
    "s3 = {456,67,\"richa\",45+45j,(2,3,4)}"
   ]
  },
  {
   "cell_type": "code",
   "execution_count": 174,
   "id": "65be68af-110e-456d-a429-be50a30fe67f",
   "metadata": {},
   "outputs": [
    {
     "data": {
      "text/plain": [
       "{(2, 3, 4), (45+45j), 456, 67, 'richa'}"
      ]
     },
     "execution_count": 174,
     "metadata": {},
     "output_type": "execute_result"
    }
   ],
   "source": [
    "s3"
   ]
  },
  {
   "cell_type": "code",
   "execution_count": 177,
   "id": "ef50c68a-fb6d-4f5b-a76b-dbf5d1b09bb3",
   "metadata": {},
   "outputs": [],
   "source": [
    "s4 = {2,4,4,6,6,7,7,2,2,8,9,1,0,\"ram\",\"RAM\"}"
   ]
  },
  {
   "cell_type": "code",
   "execution_count": 178,
   "id": "8cf34587-c1d8-4a4d-bd96-a4dc82de5af6",
   "metadata": {},
   "outputs": [
    {
     "data": {
      "text/plain": [
       "{0, 1, 2, 4, 6, 7, 8, 9, 'RAM', 'ram'}"
      ]
     },
     "execution_count": 178,
     "metadata": {},
     "output_type": "execute_result"
    }
   ],
   "source": [
    "s4"
   ]
  },
  {
   "cell_type": "code",
   "execution_count": 179,
   "id": "feb37c90-ff9f-411f-81c0-d3fc861377bd",
   "metadata": {},
   "outputs": [
    {
     "data": {
      "text/plain": [
       "{0, 1, 2, 4, 6, 7, 8, 9, 'RAM', 'ram'}"
      ]
     },
     "execution_count": 179,
     "metadata": {},
     "output_type": "execute_result"
    }
   ],
   "source": [
    "set(s4)"
   ]
  },
  {
   "cell_type": "code",
   "execution_count": 182,
   "id": "47bbc9cf-eeee-49be-92b3-f7f44e0608cb",
   "metadata": {},
   "outputs": [],
   "source": [
    "l1 = [2,3,4,5,5,6,7,7,8,8,\"sudh\",\"richa\"]"
   ]
  },
  {
   "cell_type": "code",
   "execution_count": 183,
   "id": "6ed4f9f4-f0f7-4ab4-bf5e-42b53d23399a",
   "metadata": {},
   "outputs": [
    {
     "data": {
      "text/plain": [
       "[2, 3, 4, 5, 5, 6, 7, 7, 8, 8, 'sudh', 'richa']"
      ]
     },
     "execution_count": 183,
     "metadata": {},
     "output_type": "execute_result"
    }
   ],
   "source": [
    "l1"
   ]
  },
  {
   "cell_type": "code",
   "execution_count": 184,
   "id": "58f4a573-a1ff-4dc5-b169-b9a9526eb44d",
   "metadata": {},
   "outputs": [],
   "source": [
    "l1 = list(set(l1))"
   ]
  },
  {
   "cell_type": "code",
   "execution_count": 185,
   "id": "e04962d8-d34b-4c59-aa51-4da5a21de237",
   "metadata": {},
   "outputs": [
    {
     "data": {
      "text/plain": [
       "[2, 3, 4, 5, 6, 7, 8, 'sudh', 'richa']"
      ]
     },
     "execution_count": 185,
     "metadata": {},
     "output_type": "execute_result"
    }
   ],
   "source": [
    "l1"
   ]
  },
  {
   "cell_type": "code",
   "execution_count": 190,
   "id": "d9920ac7-6710-465b-bdcb-a2cebdefdf49",
   "metadata": {},
   "outputs": [],
   "source": [
    "s5 = {234,567,12,567,\"abc\",70,900,1}"
   ]
  },
  {
   "cell_type": "code",
   "execution_count": 191,
   "id": "659351a6-627b-4641-9e82-8b0f7f9728f5",
   "metadata": {},
   "outputs": [
    {
     "data": {
      "text/plain": [
       "{1, 12, 234, 567, 70, 900, 'abc'}"
      ]
     },
     "execution_count": 191,
     "metadata": {},
     "output_type": "execute_result"
    }
   ],
   "source": [
    "s5"
   ]
  },
  {
   "cell_type": "code",
   "execution_count": 192,
   "id": "ab0b441d-8a81-4584-ba7a-4980bc781687",
   "metadata": {},
   "outputs": [
    {
     "ename": "TypeError",
     "evalue": "'set' object is not subscriptable",
     "output_type": "error",
     "traceback": [
      "\u001b[0;31m---------------------------------------------------------------------------\u001b[0m",
      "\u001b[0;31mTypeError\u001b[0m                                 Traceback (most recent call last)",
      "Cell \u001b[0;32mIn[192], line 1\u001b[0m\n\u001b[0;32m----> 1\u001b[0m \u001b[43ms5\u001b[49m\u001b[43m[\u001b[49m\u001b[38;5;241;43m1\u001b[39;49m\u001b[43m]\u001b[49m\n",
      "\u001b[0;31mTypeError\u001b[0m: 'set' object is not subscriptable"
     ]
    }
   ],
   "source": [
    "s5[1]"
   ]
  },
  {
   "cell_type": "code",
   "execution_count": 193,
   "id": "7be944da-eb5d-455d-814b-7799d0b2be22",
   "metadata": {},
   "outputs": [
    {
     "ename": "TypeError",
     "evalue": "'set' object is not subscriptable",
     "output_type": "error",
     "traceback": [
      "\u001b[0;31m---------------------------------------------------------------------------\u001b[0m",
      "\u001b[0;31mTypeError\u001b[0m                                 Traceback (most recent call last)",
      "Cell \u001b[0;32mIn[193], line 1\u001b[0m\n\u001b[0;32m----> 1\u001b[0m \u001b[43ms5\u001b[49m\u001b[43m[\u001b[49m\u001b[38;5;241;43m4\u001b[39;49m\u001b[43m]\u001b[49m\n",
      "\u001b[0;31mTypeError\u001b[0m: 'set' object is not subscriptable"
     ]
    }
   ],
   "source": [
    "s5[4]"
   ]
  },
  {
   "cell_type": "code",
   "execution_count": 194,
   "id": "6190eb06-2d13-42e5-8bc3-e0dd3e5fd4db",
   "metadata": {},
   "outputs": [],
   "source": [
    "s5.add(4)"
   ]
  },
  {
   "cell_type": "code",
   "execution_count": 195,
   "id": "8b10daf4-5e8e-4dab-9a59-ba18f1630083",
   "metadata": {},
   "outputs": [
    {
     "data": {
      "text/plain": [
       "{1, 12, 234, 4, 567, 70, 900, 'abc'}"
      ]
     },
     "execution_count": 195,
     "metadata": {},
     "output_type": "execute_result"
    }
   ],
   "source": [
    "s5"
   ]
  },
  {
   "cell_type": "code",
   "execution_count": 196,
   "id": "5dd55073-c501-470f-a3bb-ec32b9cc3756",
   "metadata": {},
   "outputs": [
    {
     "ename": "TypeError",
     "evalue": "'set' object is not subscriptable",
     "output_type": "error",
     "traceback": [
      "\u001b[0;31m---------------------------------------------------------------------------\u001b[0m",
      "\u001b[0;31mTypeError\u001b[0m                                 Traceback (most recent call last)",
      "Cell \u001b[0;32mIn[196], line 1\u001b[0m\n\u001b[0;32m----> 1\u001b[0m \u001b[43ms5\u001b[49m\u001b[43m[\u001b[49m\u001b[43m:\u001b[49m\u001b[43m:\u001b[49m\u001b[38;5;241;43m-\u001b[39;49m\u001b[38;5;241;43m1\u001b[39;49m\u001b[43m]\u001b[49m\n",
      "\u001b[0;31mTypeError\u001b[0m: 'set' object is not subscriptable"
     ]
    }
   ],
   "source": [
    "s5[::-1]"
   ]
  },
  {
   "cell_type": "code",
   "execution_count": 197,
   "id": "066146bb-bb75-4f7c-b02e-24ce8be7dd19",
   "metadata": {},
   "outputs": [],
   "source": [
    "s5.add(460)"
   ]
  },
  {
   "cell_type": "code",
   "execution_count": 198,
   "id": "5334131e-ba6a-4a8c-9c99-90873478e72c",
   "metadata": {},
   "outputs": [
    {
     "data": {
      "text/plain": [
       "{1, 12, 234, 4, 460, 567, 70, 900, 'abc'}"
      ]
     },
     "execution_count": 198,
     "metadata": {},
     "output_type": "execute_result"
    }
   ],
   "source": [
    "s5"
   ]
  },
  {
   "cell_type": "code",
   "execution_count": 199,
   "id": "b577095e-de44-4a91-b954-2357e9ce4a84",
   "metadata": {},
   "outputs": [],
   "source": [
    "s5.remove(460)"
   ]
  },
  {
   "cell_type": "code",
   "execution_count": 200,
   "id": "4d5af2c8-133c-41b9-98e4-926050f5947e",
   "metadata": {},
   "outputs": [
    {
     "data": {
      "text/plain": [
       "{1, 12, 234, 4, 567, 70, 900, 'abc'}"
      ]
     },
     "execution_count": 200,
     "metadata": {},
     "output_type": "execute_result"
    }
   ],
   "source": [
    "s5"
   ]
  },
  {
   "cell_type": "code",
   "execution_count": null,
   "id": "28ba010d-70bb-404a-bfbb-2a77b5b0fe3e",
   "metadata": {},
   "outputs": [],
   "source": []
  }
 ],
 "metadata": {
  "kernelspec": {
   "display_name": "Python 3 (ipykernel)",
   "language": "python",
   "name": "python3"
  },
  "language_info": {
   "codemirror_mode": {
    "name": "ipython",
    "version": 3
   },
   "file_extension": ".py",
   "mimetype": "text/x-python",
   "name": "python",
   "nbconvert_exporter": "python",
   "pygments_lexer": "ipython3",
   "version": "3.10.8"
  }
 },
 "nbformat": 4,
 "nbformat_minor": 5
}
